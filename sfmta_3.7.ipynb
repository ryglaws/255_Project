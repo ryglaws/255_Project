{
 "cells": [
  {
   "cell_type": "code",
   "execution_count": 2,
   "metadata": {},
   "outputs": [],
   "source": [
    "#Let's start by using pandas\n",
    "import pandas as pd"
   ]
  },
  {
   "cell_type": "code",
   "execution_count": 3,
   "metadata": {},
   "outputs": [
    {
     "data": {
      "text/html": [
       "<div>\n",
       "<style scoped>\n",
       "    .dataframe tbody tr th:only-of-type {\n",
       "        vertical-align: middle;\n",
       "    }\n",
       "\n",
       "    .dataframe tbody tr th {\n",
       "        vertical-align: top;\n",
       "    }\n",
       "\n",
       "    .dataframe thead th {\n",
       "        text-align: right;\n",
       "    }\n",
       "</style>\n",
       "<table border=\"1\" class=\"dataframe\">\n",
       "  <thead>\n",
       "    <tr style=\"text-align: right;\">\n",
       "      <th></th>\n",
       "      <th>ACTION_TAKEN</th>\n",
       "      <th>CALL_DATE</th>\n",
       "      <th>CALL_FROM</th>\n",
       "      <th>CALL_TIME</th>\n",
       "      <th>Category</th>\n",
       "      <th>Message search terms</th>\n",
       "      <th>Sub Category</th>\n",
       "      <th>Sum of Incidents</th>\n",
       "      <th>Sum of Vehicle Delay Time</th>\n",
       "      <th>Measure Param</th>\n",
       "      <th>...</th>\n",
       "      <th>VEHICLE</th>\n",
       "      <th>VEHICLE_DELAY_TIME_END</th>\n",
       "      <th>VEHICLE_DELAY_TIME_START</th>\n",
       "      <th>VEHICLE_NEW</th>\n",
       "      <th>VEHICLE_NEW_NUM_1</th>\n",
       "      <th>VEHICLE_NEW_NUM_2</th>\n",
       "      <th>VEH_DELAY</th>\n",
       "      <th>VIA</th>\n",
       "      <th>Veh_Delay_Time (copy)</th>\n",
       "      <th>Vehicle Delay Minutes per Incident</th>\n",
       "    </tr>\n",
       "  </thead>\n",
       "  <tbody>\n",
       "    <tr>\n",
       "      <th>0</th>\n",
       "      <td>5T61 RESPONDED, SFPD 3B12D , MEDIC 74 TRANSPOR...</td>\n",
       "      <td>1/27/2020</td>\n",
       "      <td>4C22</td>\n",
       "      <td>18:43</td>\n",
       "      <td>Passenger Incident</td>\n",
       "      <td>0</td>\n",
       "      <td>Intoxicated Passenger</td>\n",
       "      <td>1</td>\n",
       "      <td>65.0</td>\n",
       "      <td>1</td>\n",
       "      <td>...</td>\n",
       "      <td>1457</td>\n",
       "      <td>1/27/2020 19:48</td>\n",
       "      <td>1/27/2020 18:43</td>\n",
       "      <td>NaN</td>\n",
       "      <td>NaN</td>\n",
       "      <td>NaN</td>\n",
       "      <td>18:43 - 19:48</td>\n",
       "      <td>R</td>\n",
       "      <td>65.0</td>\n",
       "      <td>65.0</td>\n",
       "    </tr>\n",
       "    <tr>\n",
       "      <th>1</th>\n",
       "      <td>MEDIC 52  CAD #  3868 NOTIFIED AND RESPONDED /...</td>\n",
       "      <td>1/25/2020</td>\n",
       "      <td>OPERATOR</td>\n",
       "      <td>23:16</td>\n",
       "      <td>Passenger Incident</td>\n",
       "      <td>0</td>\n",
       "      <td>Intoxicated Passenger</td>\n",
       "      <td>1</td>\n",
       "      <td>54.0</td>\n",
       "      <td>1</td>\n",
       "      <td>...</td>\n",
       "      <td>5706</td>\n",
       "      <td>1/27/2020 0:10</td>\n",
       "      <td>1/26/2020 23:16</td>\n",
       "      <td>NaN</td>\n",
       "      <td>NaN</td>\n",
       "      <td>NaN</td>\n",
       "      <td>23:16 - 00:10</td>\n",
       "      <td>R</td>\n",
       "      <td>54.0</td>\n",
       "      <td>54.0</td>\n",
       "    </tr>\n",
       "    <tr>\n",
       "      <th>2</th>\n",
       "      <td>SFPD CAD# 52640, UNIT# 3113D, MOBILE 148  RESP...</td>\n",
       "      <td>1/25/2020</td>\n",
       "      <td>OPERATOR</td>\n",
       "      <td>17:00</td>\n",
       "      <td>Passenger Incident</td>\n",
       "      <td>0</td>\n",
       "      <td>Intoxicated Passenger</td>\n",
       "      <td>1</td>\n",
       "      <td>81.0</td>\n",
       "      <td>1</td>\n",
       "      <td>...</td>\n",
       "      <td>8819</td>\n",
       "      <td>1/25/2020 18:21</td>\n",
       "      <td>1/25/2020 17:00</td>\n",
       "      <td>NaN</td>\n",
       "      <td>NaN</td>\n",
       "      <td>NaN</td>\n",
       "      <td>17:00 - 18:21</td>\n",
       "      <td>R</td>\n",
       "      <td>81.0</td>\n",
       "      <td>81.0</td>\n",
       "    </tr>\n",
       "    <tr>\n",
       "      <th>3</th>\n",
       "      <td>1C-17B GAMEZ NOTIFIED TMC 6 REQUESTING SFPD. R...</td>\n",
       "      <td>1/24/2020</td>\n",
       "      <td>OPERATOR</td>\n",
       "      <td>16:02</td>\n",
       "      <td>Passenger Incident</td>\n",
       "      <td>0</td>\n",
       "      <td>Intoxicated Passenger</td>\n",
       "      <td>1</td>\n",
       "      <td>138.0</td>\n",
       "      <td>1</td>\n",
       "      <td>...</td>\n",
       "      <td>6618</td>\n",
       "      <td>1/24/2020 18:20</td>\n",
       "      <td>1/24/2020 16:02</td>\n",
       "      <td>NaN</td>\n",
       "      <td>NaN</td>\n",
       "      <td>NaN</td>\n",
       "      <td>16:02 - 18:20</td>\n",
       "      <td>R</td>\n",
       "      <td>138.0</td>\n",
       "      <td>138.0</td>\n",
       "    </tr>\n",
       "    <tr>\n",
       "      <th>4</th>\n",
       "      <td>5T-64/PITCHER RESPONDED AND CLEARED. NO DELAY ...</td>\n",
       "      <td>1/22/2020</td>\n",
       "      <td>OPERATOR</td>\n",
       "      <td>19:27</td>\n",
       "      <td>Passenger Incident</td>\n",
       "      <td>0</td>\n",
       "      <td>Intoxicated Passenger</td>\n",
       "      <td>1</td>\n",
       "      <td>NaN</td>\n",
       "      <td>1</td>\n",
       "      <td>...</td>\n",
       "      <td>1539-1487</td>\n",
       "      <td>NaN</td>\n",
       "      <td>NaN</td>\n",
       "      <td>NaN</td>\n",
       "      <td>NaN</td>\n",
       "      <td>NaN</td>\n",
       "      <td>00:00 - 00:00</td>\n",
       "      <td>R</td>\n",
       "      <td>NaN</td>\n",
       "      <td>NaN</td>\n",
       "    </tr>\n",
       "  </tbody>\n",
       "</table>\n",
       "<p>5 rows × 50 columns</p>\n",
       "</div>"
      ],
      "text/plain": [
       "                                        ACTION_TAKEN  CALL_DATE CALL_FROM  \\\n",
       "0  5T61 RESPONDED, SFPD 3B12D , MEDIC 74 TRANSPOR...  1/27/2020      4C22   \n",
       "1  MEDIC 52  CAD #  3868 NOTIFIED AND RESPONDED /...  1/25/2020  OPERATOR   \n",
       "2  SFPD CAD# 52640, UNIT# 3113D, MOBILE 148  RESP...  1/25/2020  OPERATOR   \n",
       "3  1C-17B GAMEZ NOTIFIED TMC 6 REQUESTING SFPD. R...  1/24/2020  OPERATOR   \n",
       "4  5T-64/PITCHER RESPONDED AND CLEARED. NO DELAY ...  1/22/2020  OPERATOR   \n",
       "\n",
       "  CALL_TIME            Category  Message search terms           Sub Category  \\\n",
       "0     18:43  Passenger Incident                     0  Intoxicated Passenger   \n",
       "1     23:16  Passenger Incident                     0  Intoxicated Passenger   \n",
       "2     17:00  Passenger Incident                     0  Intoxicated Passenger   \n",
       "3     16:02  Passenger Incident                     0  Intoxicated Passenger   \n",
       "4     19:27  Passenger Incident                     0  Intoxicated Passenger   \n",
       "\n",
       "   Sum of Incidents  Sum of Vehicle Delay Time  Measure Param  \\\n",
       "0                 1                       65.0              1   \n",
       "1                 1                       54.0              1   \n",
       "2                 1                       81.0              1   \n",
       "3                 1                      138.0              1   \n",
       "4                 1                        NaN              1   \n",
       "\n",
       "                 ...                    VEHICLE VEHICLE_DELAY_TIME_END  \\\n",
       "0                ...                       1457        1/27/2020 19:48   \n",
       "1                ...                       5706         1/27/2020 0:10   \n",
       "2                ...                       8819        1/25/2020 18:21   \n",
       "3                ...                       6618        1/24/2020 18:20   \n",
       "4                ...                  1539-1487                    NaN   \n",
       "\n",
       "  VEHICLE_DELAY_TIME_START VEHICLE_NEW VEHICLE_NEW_NUM_1 VEHICLE_NEW_NUM_2  \\\n",
       "0          1/27/2020 18:43         NaN               NaN               NaN   \n",
       "1          1/26/2020 23:16         NaN               NaN               NaN   \n",
       "2          1/25/2020 17:00         NaN               NaN               NaN   \n",
       "3          1/24/2020 16:02         NaN               NaN               NaN   \n",
       "4                      NaN         NaN               NaN               NaN   \n",
       "\n",
       "       VEH_DELAY VIA Veh_Delay_Time (copy) Vehicle Delay Minutes per Incident  \n",
       "0  18:43 - 19:48   R                  65.0                               65.0  \n",
       "1  23:16 - 00:10   R                  54.0                               54.0  \n",
       "2  17:00 - 18:21   R                  81.0                               81.0  \n",
       "3  16:02 - 18:20   R                 138.0                              138.0  \n",
       "4  00:00 - 00:00   R                   NaN                                NaN  \n",
       "\n",
       "[5 rows x 50 columns]"
      ]
     },
     "execution_count": 3,
     "metadata": {},
     "output_type": "execute_result"
    }
   ],
   "source": [
    "# 1!! \n",
    "\n",
    "#Import central control data\n",
    "sfmta_data = pd.read_csv(\"https://www.dropbox.com/s/k4olqc43dpgb2iu/SFMTA_intoxpassenger_2010-1.2020.csv?dl=1\")\n",
    "\n",
    "#preview the data\n",
    "sfmta_data.head()"
   ]
  },
  {
   "cell_type": "code",
   "execution_count": 4,
   "metadata": {},
   "outputs": [
    {
     "data": {
      "text/html": [
       "<div>\n",
       "<style scoped>\n",
       "    .dataframe tbody tr th:only-of-type {\n",
       "        vertical-align: middle;\n",
       "    }\n",
       "\n",
       "    .dataframe tbody tr th {\n",
       "        vertical-align: top;\n",
       "    }\n",
       "\n",
       "    .dataframe thead th {\n",
       "        text-align: right;\n",
       "    }\n",
       "</style>\n",
       "<table border=\"1\" class=\"dataframe\">\n",
       "  <thead>\n",
       "    <tr style=\"text-align: right;\">\n",
       "      <th></th>\n",
       "      <th>Message search terms</th>\n",
       "      <th>Sum of Incidents</th>\n",
       "      <th>Sum of Vehicle Delay Time</th>\n",
       "      <th>Measure Param</th>\n",
       "      <th>LOCATION_ORIGINAL</th>\n",
       "      <th>Number of Records</th>\n",
       "      <th>RUN</th>\n",
       "      <th>TAG_ID</th>\n",
       "      <th>VEHICLE_NEW_NUM_2</th>\n",
       "      <th>Veh_Delay_Time (copy)</th>\n",
       "      <th>Vehicle Delay Minutes per Incident</th>\n",
       "    </tr>\n",
       "  </thead>\n",
       "  <tbody>\n",
       "    <tr>\n",
       "      <th>count</th>\n",
       "      <td>2622.000000</td>\n",
       "      <td>2622.0</td>\n",
       "      <td>2412.000000</td>\n",
       "      <td>2622.0</td>\n",
       "      <td>0.0</td>\n",
       "      <td>2622.0</td>\n",
       "      <td>2399.000000</td>\n",
       "      <td>2.622000e+03</td>\n",
       "      <td>2.000000</td>\n",
       "      <td>2412.000000</td>\n",
       "      <td>2412.000000</td>\n",
       "    </tr>\n",
       "    <tr>\n",
       "      <th>mean</th>\n",
       "      <td>0.048818</td>\n",
       "      <td>1.0</td>\n",
       "      <td>30.615672</td>\n",
       "      <td>1.0</td>\n",
       "      <td>NaN</td>\n",
       "      <td>1.0</td>\n",
       "      <td>336.799500</td>\n",
       "      <td>1.467568e+06</td>\n",
       "      <td>1450.000000</td>\n",
       "      <td>30.615672</td>\n",
       "      <td>30.615672</td>\n",
       "    </tr>\n",
       "    <tr>\n",
       "      <th>std</th>\n",
       "      <td>0.645399</td>\n",
       "      <td>0.0</td>\n",
       "      <td>75.007996</td>\n",
       "      <td>0.0</td>\n",
       "      <td>NaN</td>\n",
       "      <td>0.0</td>\n",
       "      <td>209.871553</td>\n",
       "      <td>1.159594e+05</td>\n",
       "      <td>11.313708</td>\n",
       "      <td>75.007996</td>\n",
       "      <td>75.007996</td>\n",
       "    </tr>\n",
       "    <tr>\n",
       "      <th>min</th>\n",
       "      <td>0.000000</td>\n",
       "      <td>1.0</td>\n",
       "      <td>0.000000</td>\n",
       "      <td>1.0</td>\n",
       "      <td>NaN</td>\n",
       "      <td>1.0</td>\n",
       "      <td>0.000000</td>\n",
       "      <td>1.280143e+06</td>\n",
       "      <td>1442.000000</td>\n",
       "      <td>0.000000</td>\n",
       "      <td>0.000000</td>\n",
       "    </tr>\n",
       "    <tr>\n",
       "      <th>25%</th>\n",
       "      <td>0.000000</td>\n",
       "      <td>1.0</td>\n",
       "      <td>11.000000</td>\n",
       "      <td>1.0</td>\n",
       "      <td>NaN</td>\n",
       "      <td>1.0</td>\n",
       "      <td>148.000000</td>\n",
       "      <td>1.366055e+06</td>\n",
       "      <td>1446.000000</td>\n",
       "      <td>11.000000</td>\n",
       "      <td>11.000000</td>\n",
       "    </tr>\n",
       "    <tr>\n",
       "      <th>50%</th>\n",
       "      <td>0.000000</td>\n",
       "      <td>1.0</td>\n",
       "      <td>20.000000</td>\n",
       "      <td>1.0</td>\n",
       "      <td>NaN</td>\n",
       "      <td>1.0</td>\n",
       "      <td>317.000000</td>\n",
       "      <td>1.458756e+06</td>\n",
       "      <td>1450.000000</td>\n",
       "      <td>20.000000</td>\n",
       "      <td>20.000000</td>\n",
       "    </tr>\n",
       "    <tr>\n",
       "      <th>75%</th>\n",
       "      <td>0.000000</td>\n",
       "      <td>1.0</td>\n",
       "      <td>36.000000</td>\n",
       "      <td>1.0</td>\n",
       "      <td>NaN</td>\n",
       "      <td>1.0</td>\n",
       "      <td>477.000000</td>\n",
       "      <td>1.569520e+06</td>\n",
       "      <td>1454.000000</td>\n",
       "      <td>36.000000</td>\n",
       "      <td>36.000000</td>\n",
       "    </tr>\n",
       "    <tr>\n",
       "      <th>max</th>\n",
       "      <td>9.000000</td>\n",
       "      <td>1.0</td>\n",
       "      <td>1437.000000</td>\n",
       "      <td>1.0</td>\n",
       "      <td>NaN</td>\n",
       "      <td>1.0</td>\n",
       "      <td>978.000000</td>\n",
       "      <td>1.677508e+06</td>\n",
       "      <td>1458.000000</td>\n",
       "      <td>1437.000000</td>\n",
       "      <td>1437.000000</td>\n",
       "    </tr>\n",
       "  </tbody>\n",
       "</table>\n",
       "</div>"
      ],
      "text/plain": [
       "       Message search terms  Sum of Incidents  Sum of Vehicle Delay Time  \\\n",
       "count           2622.000000            2622.0                2412.000000   \n",
       "mean               0.048818               1.0                  30.615672   \n",
       "std                0.645399               0.0                  75.007996   \n",
       "min                0.000000               1.0                   0.000000   \n",
       "25%                0.000000               1.0                  11.000000   \n",
       "50%                0.000000               1.0                  20.000000   \n",
       "75%                0.000000               1.0                  36.000000   \n",
       "max                9.000000               1.0                1437.000000   \n",
       "\n",
       "       Measure Param  LOCATION_ORIGINAL  Number of Records          RUN  \\\n",
       "count         2622.0                0.0             2622.0  2399.000000   \n",
       "mean             1.0                NaN                1.0   336.799500   \n",
       "std              0.0                NaN                0.0   209.871553   \n",
       "min              1.0                NaN                1.0     0.000000   \n",
       "25%              1.0                NaN                1.0   148.000000   \n",
       "50%              1.0                NaN                1.0   317.000000   \n",
       "75%              1.0                NaN                1.0   477.000000   \n",
       "max              1.0                NaN                1.0   978.000000   \n",
       "\n",
       "             TAG_ID  VEHICLE_NEW_NUM_2  Veh_Delay_Time (copy)  \\\n",
       "count  2.622000e+03           2.000000            2412.000000   \n",
       "mean   1.467568e+06        1450.000000              30.615672   \n",
       "std    1.159594e+05          11.313708              75.007996   \n",
       "min    1.280143e+06        1442.000000               0.000000   \n",
       "25%    1.366055e+06        1446.000000              11.000000   \n",
       "50%    1.458756e+06        1450.000000              20.000000   \n",
       "75%    1.569520e+06        1454.000000              36.000000   \n",
       "max    1.677508e+06        1458.000000            1437.000000   \n",
       "\n",
       "       Vehicle Delay Minutes per Incident  \n",
       "count                         2412.000000  \n",
       "mean                            30.615672  \n",
       "std                             75.007996  \n",
       "min                              0.000000  \n",
       "25%                             11.000000  \n",
       "50%                             20.000000  \n",
       "75%                             36.000000  \n",
       "max                           1437.000000  "
      ]
     },
     "execution_count": 4,
     "metadata": {},
     "output_type": "execute_result"
    }
   ],
   "source": [
    "sfmta_data.describe()"
   ]
  },
  {
   "cell_type": "code",
   "execution_count": 5,
   "metadata": {
    "scrolled": true
   },
   "outputs": [
    {
     "data": {
      "text/plain": [
       "count         2622\n",
       "unique        1535\n",
       "top       2/1/2015\n",
       "freq             6\n",
       "Name: CALL_DATE, dtype: object"
      ]
     },
     "execution_count": 5,
     "metadata": {},
     "output_type": "execute_result"
    }
   ],
   "source": [
    "sfmta_data.CALL_DATE.describe()"
   ]
  },
  {
   "cell_type": "code",
   "execution_count": 6,
   "metadata": {
    "scrolled": true
   },
   "outputs": [
    {
     "data": {
      "text/plain": [
       "count      2622\n",
       "unique     1086\n",
       "top       18:42\n",
       "freq         12\n",
       "Name: CALL_TIME, dtype: object"
      ]
     },
     "execution_count": 6,
     "metadata": {},
     "output_type": "execute_result"
    }
   ],
   "source": [
    "sfmta_data.CALL_TIME.describe()"
   ]
  },
  {
   "cell_type": "code",
   "execution_count": 7,
   "metadata": {},
   "outputs": [],
   "source": [
    "sfmta_df = sfmta_data"
   ]
  },
  {
   "cell_type": "code",
   "execution_count": 8,
   "metadata": {
    "scrolled": true
   },
   "outputs": [
    {
     "data": {
      "text/plain": [
       "pandas.core.frame.DataFrame"
      ]
     },
     "execution_count": 8,
     "metadata": {},
     "output_type": "execute_result"
    }
   ],
   "source": [
    "type(sfmta_df)"
   ]
  },
  {
   "cell_type": "markdown",
   "metadata": {},
   "source": [
    "### Creating new columns for what we're going to look at"
   ]
  },
  {
   "cell_type": "code",
   "execution_count": 9,
   "metadata": {},
   "outputs": [],
   "source": [
    "sfmta_df['incident_date'] = sfmta_df['CALL_DATE']\n",
    "sfmta_df['incident_time'] = sfmta_df['CALL_TIME']\n",
    "sfmta_df['line'] = sfmta_df['LINE']\n",
    "sfmta_df['caller'] = sfmta_df['CALL_FROM']"
   ]
  },
  {
   "cell_type": "code",
   "execution_count": 10,
   "metadata": {
    "scrolled": false
   },
   "outputs": [
    {
     "data": {
      "text/html": [
       "<div>\n",
       "<style scoped>\n",
       "    .dataframe tbody tr th:only-of-type {\n",
       "        vertical-align: middle;\n",
       "    }\n",
       "\n",
       "    .dataframe tbody tr th {\n",
       "        vertical-align: top;\n",
       "    }\n",
       "\n",
       "    .dataframe thead th {\n",
       "        text-align: right;\n",
       "    }\n",
       "</style>\n",
       "<table border=\"1\" class=\"dataframe\">\n",
       "  <thead>\n",
       "    <tr style=\"text-align: right;\">\n",
       "      <th></th>\n",
       "      <th>ACTION_TAKEN</th>\n",
       "      <th>CALL_DATE</th>\n",
       "      <th>CALL_FROM</th>\n",
       "      <th>CALL_TIME</th>\n",
       "      <th>Category</th>\n",
       "      <th>Message search terms</th>\n",
       "      <th>Sub Category</th>\n",
       "      <th>Sum of Incidents</th>\n",
       "      <th>Sum of Vehicle Delay Time</th>\n",
       "      <th>Measure Param</th>\n",
       "      <th>...</th>\n",
       "      <th>VEHICLE_NEW_NUM_1</th>\n",
       "      <th>VEHICLE_NEW_NUM_2</th>\n",
       "      <th>VEH_DELAY</th>\n",
       "      <th>VIA</th>\n",
       "      <th>Veh_Delay_Time (copy)</th>\n",
       "      <th>Vehicle Delay Minutes per Incident</th>\n",
       "      <th>incident_date</th>\n",
       "      <th>incident_time</th>\n",
       "      <th>line</th>\n",
       "      <th>caller</th>\n",
       "    </tr>\n",
       "  </thead>\n",
       "  <tbody>\n",
       "    <tr>\n",
       "      <th>0</th>\n",
       "      <td>5T61 RESPONDED, SFPD 3B12D , MEDIC 74 TRANSPOR...</td>\n",
       "      <td>1/27/2020</td>\n",
       "      <td>4C22</td>\n",
       "      <td>18:43</td>\n",
       "      <td>Passenger Incident</td>\n",
       "      <td>0</td>\n",
       "      <td>Intoxicated Passenger</td>\n",
       "      <td>1</td>\n",
       "      <td>65.0</td>\n",
       "      <td>1</td>\n",
       "      <td>...</td>\n",
       "      <td>NaN</td>\n",
       "      <td>NaN</td>\n",
       "      <td>18:43 - 19:48</td>\n",
       "      <td>R</td>\n",
       "      <td>65.0</td>\n",
       "      <td>65.0</td>\n",
       "      <td>1/27/2020</td>\n",
       "      <td>18:43</td>\n",
       "      <td>M</td>\n",
       "      <td>4C22</td>\n",
       "    </tr>\n",
       "    <tr>\n",
       "      <th>1</th>\n",
       "      <td>MEDIC 52  CAD #  3868 NOTIFIED AND RESPONDED /...</td>\n",
       "      <td>1/25/2020</td>\n",
       "      <td>OPERATOR</td>\n",
       "      <td>23:16</td>\n",
       "      <td>Passenger Incident</td>\n",
       "      <td>0</td>\n",
       "      <td>Intoxicated Passenger</td>\n",
       "      <td>1</td>\n",
       "      <td>54.0</td>\n",
       "      <td>1</td>\n",
       "      <td>...</td>\n",
       "      <td>NaN</td>\n",
       "      <td>NaN</td>\n",
       "      <td>23:16 - 00:10</td>\n",
       "      <td>R</td>\n",
       "      <td>54.0</td>\n",
       "      <td>54.0</td>\n",
       "      <td>1/25/2020</td>\n",
       "      <td>23:16</td>\n",
       "      <td>6</td>\n",
       "      <td>OPERATOR</td>\n",
       "    </tr>\n",
       "    <tr>\n",
       "      <th>2</th>\n",
       "      <td>SFPD CAD# 52640, UNIT# 3113D, MOBILE 148  RESP...</td>\n",
       "      <td>1/25/2020</td>\n",
       "      <td>OPERATOR</td>\n",
       "      <td>17:00</td>\n",
       "      <td>Passenger Incident</td>\n",
       "      <td>0</td>\n",
       "      <td>Intoxicated Passenger</td>\n",
       "      <td>1</td>\n",
       "      <td>81.0</td>\n",
       "      <td>1</td>\n",
       "      <td>...</td>\n",
       "      <td>NaN</td>\n",
       "      <td>NaN</td>\n",
       "      <td>17:00 - 18:21</td>\n",
       "      <td>R</td>\n",
       "      <td>81.0</td>\n",
       "      <td>81.0</td>\n",
       "      <td>1/25/2020</td>\n",
       "      <td>17:00</td>\n",
       "      <td>29</td>\n",
       "      <td>OPERATOR</td>\n",
       "    </tr>\n",
       "    <tr>\n",
       "      <th>3</th>\n",
       "      <td>1C-17B GAMEZ NOTIFIED TMC 6 REQUESTING SFPD. R...</td>\n",
       "      <td>1/24/2020</td>\n",
       "      <td>OPERATOR</td>\n",
       "      <td>16:02</td>\n",
       "      <td>Passenger Incident</td>\n",
       "      <td>0</td>\n",
       "      <td>Intoxicated Passenger</td>\n",
       "      <td>1</td>\n",
       "      <td>138.0</td>\n",
       "      <td>1</td>\n",
       "      <td>...</td>\n",
       "      <td>NaN</td>\n",
       "      <td>NaN</td>\n",
       "      <td>16:02 - 18:20</td>\n",
       "      <td>R</td>\n",
       "      <td>138.0</td>\n",
       "      <td>138.0</td>\n",
       "      <td>1/24/2020</td>\n",
       "      <td>16:02</td>\n",
       "      <td>14R</td>\n",
       "      <td>OPERATOR</td>\n",
       "    </tr>\n",
       "    <tr>\n",
       "      <th>4</th>\n",
       "      <td>5T-64/PITCHER RESPONDED AND CLEARED. NO DELAY ...</td>\n",
       "      <td>1/22/2020</td>\n",
       "      <td>OPERATOR</td>\n",
       "      <td>19:27</td>\n",
       "      <td>Passenger Incident</td>\n",
       "      <td>0</td>\n",
       "      <td>Intoxicated Passenger</td>\n",
       "      <td>1</td>\n",
       "      <td>NaN</td>\n",
       "      <td>1</td>\n",
       "      <td>...</td>\n",
       "      <td>NaN</td>\n",
       "      <td>NaN</td>\n",
       "      <td>00:00 - 00:00</td>\n",
       "      <td>R</td>\n",
       "      <td>NaN</td>\n",
       "      <td>NaN</td>\n",
       "      <td>1/22/2020</td>\n",
       "      <td>19:27</td>\n",
       "      <td>N</td>\n",
       "      <td>OPERATOR</td>\n",
       "    </tr>\n",
       "  </tbody>\n",
       "</table>\n",
       "<p>5 rows × 54 columns</p>\n",
       "</div>"
      ],
      "text/plain": [
       "                                        ACTION_TAKEN  CALL_DATE CALL_FROM  \\\n",
       "0  5T61 RESPONDED, SFPD 3B12D , MEDIC 74 TRANSPOR...  1/27/2020      4C22   \n",
       "1  MEDIC 52  CAD #  3868 NOTIFIED AND RESPONDED /...  1/25/2020  OPERATOR   \n",
       "2  SFPD CAD# 52640, UNIT# 3113D, MOBILE 148  RESP...  1/25/2020  OPERATOR   \n",
       "3  1C-17B GAMEZ NOTIFIED TMC 6 REQUESTING SFPD. R...  1/24/2020  OPERATOR   \n",
       "4  5T-64/PITCHER RESPONDED AND CLEARED. NO DELAY ...  1/22/2020  OPERATOR   \n",
       "\n",
       "  CALL_TIME            Category  Message search terms           Sub Category  \\\n",
       "0     18:43  Passenger Incident                     0  Intoxicated Passenger   \n",
       "1     23:16  Passenger Incident                     0  Intoxicated Passenger   \n",
       "2     17:00  Passenger Incident                     0  Intoxicated Passenger   \n",
       "3     16:02  Passenger Incident                     0  Intoxicated Passenger   \n",
       "4     19:27  Passenger Incident                     0  Intoxicated Passenger   \n",
       "\n",
       "   Sum of Incidents  Sum of Vehicle Delay Time  Measure Param    ...     \\\n",
       "0                 1                       65.0              1    ...      \n",
       "1                 1                       54.0              1    ...      \n",
       "2                 1                       81.0              1    ...      \n",
       "3                 1                      138.0              1    ...      \n",
       "4                 1                        NaN              1    ...      \n",
       "\n",
       "  VEHICLE_NEW_NUM_1 VEHICLE_NEW_NUM_2      VEH_DELAY VIA  \\\n",
       "0               NaN               NaN  18:43 - 19:48   R   \n",
       "1               NaN               NaN  23:16 - 00:10   R   \n",
       "2               NaN               NaN  17:00 - 18:21   R   \n",
       "3               NaN               NaN  16:02 - 18:20   R   \n",
       "4               NaN               NaN  00:00 - 00:00   R   \n",
       "\n",
       "  Veh_Delay_Time (copy) Vehicle Delay Minutes per Incident incident_date  \\\n",
       "0                  65.0                               65.0     1/27/2020   \n",
       "1                  54.0                               54.0     1/25/2020   \n",
       "2                  81.0                               81.0     1/25/2020   \n",
       "3                 138.0                              138.0     1/24/2020   \n",
       "4                   NaN                                NaN     1/22/2020   \n",
       "\n",
       "  incident_time line    caller  \n",
       "0         18:43    M      4C22  \n",
       "1         23:16    6  OPERATOR  \n",
       "2         17:00   29  OPERATOR  \n",
       "3         16:02  14R  OPERATOR  \n",
       "4         19:27    N  OPERATOR  \n",
       "\n",
       "[5 rows x 54 columns]"
      ]
     },
     "execution_count": 10,
     "metadata": {},
     "output_type": "execute_result"
    }
   ],
   "source": [
    "#Check to make sure they made it on the table\n",
    "\n",
    "sfmta_df.head()"
   ]
  },
  {
   "cell_type": "markdown",
   "metadata": {},
   "source": [
    "### Let's make a new dataframe with select columns"
   ]
  },
  {
   "cell_type": "code",
   "execution_count": 11,
   "metadata": {},
   "outputs": [],
   "source": [
    "analysis = sfmta_df[['incident_date', 'incident_time', 'line', 'caller']].copy()"
   ]
  },
  {
   "cell_type": "code",
   "execution_count": 12,
   "metadata": {},
   "outputs": [
    {
     "data": {
      "text/html": [
       "<div>\n",
       "<style scoped>\n",
       "    .dataframe tbody tr th:only-of-type {\n",
       "        vertical-align: middle;\n",
       "    }\n",
       "\n",
       "    .dataframe tbody tr th {\n",
       "        vertical-align: top;\n",
       "    }\n",
       "\n",
       "    .dataframe thead th {\n",
       "        text-align: right;\n",
       "    }\n",
       "</style>\n",
       "<table border=\"1\" class=\"dataframe\">\n",
       "  <thead>\n",
       "    <tr style=\"text-align: right;\">\n",
       "      <th></th>\n",
       "      <th>incident_date</th>\n",
       "      <th>incident_time</th>\n",
       "      <th>line</th>\n",
       "      <th>caller</th>\n",
       "    </tr>\n",
       "  </thead>\n",
       "  <tbody>\n",
       "    <tr>\n",
       "      <th>0</th>\n",
       "      <td>1/27/2020</td>\n",
       "      <td>18:43</td>\n",
       "      <td>M</td>\n",
       "      <td>4C22</td>\n",
       "    </tr>\n",
       "    <tr>\n",
       "      <th>1</th>\n",
       "      <td>1/25/2020</td>\n",
       "      <td>23:16</td>\n",
       "      <td>6</td>\n",
       "      <td>OPERATOR</td>\n",
       "    </tr>\n",
       "    <tr>\n",
       "      <th>2</th>\n",
       "      <td>1/25/2020</td>\n",
       "      <td>17:00</td>\n",
       "      <td>29</td>\n",
       "      <td>OPERATOR</td>\n",
       "    </tr>\n",
       "    <tr>\n",
       "      <th>3</th>\n",
       "      <td>1/24/2020</td>\n",
       "      <td>16:02</td>\n",
       "      <td>14R</td>\n",
       "      <td>OPERATOR</td>\n",
       "    </tr>\n",
       "    <tr>\n",
       "      <th>4</th>\n",
       "      <td>1/22/2020</td>\n",
       "      <td>19:27</td>\n",
       "      <td>N</td>\n",
       "      <td>OPERATOR</td>\n",
       "    </tr>\n",
       "  </tbody>\n",
       "</table>\n",
       "</div>"
      ],
      "text/plain": [
       "  incident_date incident_time line    caller\n",
       "0     1/27/2020         18:43    M      4C22\n",
       "1     1/25/2020         23:16    6  OPERATOR\n",
       "2     1/25/2020         17:00   29  OPERATOR\n",
       "3     1/24/2020         16:02  14R  OPERATOR\n",
       "4     1/22/2020         19:27    N  OPERATOR"
      ]
     },
     "execution_count": 12,
     "metadata": {},
     "output_type": "execute_result"
    }
   ],
   "source": [
    "analysis.head()"
   ]
  },
  {
   "cell_type": "code",
   "execution_count": 13,
   "metadata": {
    "scrolled": false
   },
   "outputs": [
    {
     "data": {
      "text/html": [
       "<div>\n",
       "<style scoped>\n",
       "    .dataframe tbody tr th:only-of-type {\n",
       "        vertical-align: middle;\n",
       "    }\n",
       "\n",
       "    .dataframe tbody tr th {\n",
       "        vertical-align: top;\n",
       "    }\n",
       "\n",
       "    .dataframe thead th {\n",
       "        text-align: right;\n",
       "    }\n",
       "</style>\n",
       "<table border=\"1\" class=\"dataframe\">\n",
       "  <thead>\n",
       "    <tr style=\"text-align: right;\">\n",
       "      <th></th>\n",
       "      <th>incident_date</th>\n",
       "      <th>incident_time</th>\n",
       "      <th>line</th>\n",
       "      <th>caller</th>\n",
       "    </tr>\n",
       "  </thead>\n",
       "  <tbody>\n",
       "    <tr>\n",
       "      <th>count</th>\n",
       "      <td>2622</td>\n",
       "      <td>2622</td>\n",
       "      <td>2409</td>\n",
       "      <td>2622</td>\n",
       "    </tr>\n",
       "    <tr>\n",
       "      <th>unique</th>\n",
       "      <td>1535</td>\n",
       "      <td>1086</td>\n",
       "      <td>98</td>\n",
       "      <td>220</td>\n",
       "    </tr>\n",
       "    <tr>\n",
       "      <th>top</th>\n",
       "      <td>2/1/2015</td>\n",
       "      <td>18:42</td>\n",
       "      <td>14</td>\n",
       "      <td>OPERATOR</td>\n",
       "    </tr>\n",
       "    <tr>\n",
       "      <th>freq</th>\n",
       "      <td>6</td>\n",
       "      <td>12</td>\n",
       "      <td>255</td>\n",
       "      <td>2256</td>\n",
       "    </tr>\n",
       "  </tbody>\n",
       "</table>\n",
       "</div>"
      ],
      "text/plain": [
       "       incident_date incident_time  line    caller\n",
       "count           2622          2622  2409      2622\n",
       "unique          1535          1086    98       220\n",
       "top         2/1/2015         18:42    14  OPERATOR\n",
       "freq               6            12   255      2256"
      ]
     },
     "execution_count": 13,
     "metadata": {},
     "output_type": "execute_result"
    }
   ],
   "source": [
    "analysis.describe()"
   ]
  },
  {
   "cell_type": "code",
   "execution_count": 14,
   "metadata": {
    "scrolled": false
   },
   "outputs": [
    {
     "name": "stdout",
     "output_type": "stream",
     "text": [
      "<class 'pandas.core.frame.DataFrame'>\n",
      "RangeIndex: 2622 entries, 0 to 2621\n",
      "Data columns (total 4 columns):\n",
      "incident_date    2622 non-null object\n",
      "incident_time    2622 non-null object\n",
      "line             2409 non-null object\n",
      "caller           2622 non-null object\n",
      "dtypes: object(4)\n",
      "memory usage: 82.0+ KB\n"
     ]
    }
   ],
   "source": [
    "analysis.info()"
   ]
  },
  {
   "cell_type": "code",
   "execution_count": 15,
   "metadata": {},
   "outputs": [],
   "source": [
    "#Time to make time digestable\n",
    "\n",
    "analysis['time'] = pd.to_datetime(analysis['incident_time'], format='%H:%M').dt.time"
   ]
  },
  {
   "cell_type": "code",
   "execution_count": 16,
   "metadata": {},
   "outputs": [],
   "source": [
    "analysis['hour'] = pd.to_datetime(analysis['incident_time'], format='%H:%M').dt.hour"
   ]
  },
  {
   "cell_type": "code",
   "execution_count": 17,
   "metadata": {
    "scrolled": true
   },
   "outputs": [
    {
     "data": {
      "text/html": [
       "<div>\n",
       "<style scoped>\n",
       "    .dataframe tbody tr th:only-of-type {\n",
       "        vertical-align: middle;\n",
       "    }\n",
       "\n",
       "    .dataframe tbody tr th {\n",
       "        vertical-align: top;\n",
       "    }\n",
       "\n",
       "    .dataframe thead th {\n",
       "        text-align: right;\n",
       "    }\n",
       "</style>\n",
       "<table border=\"1\" class=\"dataframe\">\n",
       "  <thead>\n",
       "    <tr style=\"text-align: right;\">\n",
       "      <th></th>\n",
       "      <th>incident_date</th>\n",
       "      <th>incident_time</th>\n",
       "      <th>line</th>\n",
       "      <th>caller</th>\n",
       "      <th>time</th>\n",
       "      <th>hour</th>\n",
       "    </tr>\n",
       "  </thead>\n",
       "  <tbody>\n",
       "    <tr>\n",
       "      <th>0</th>\n",
       "      <td>1/27/2020</td>\n",
       "      <td>18:43</td>\n",
       "      <td>M</td>\n",
       "      <td>4C22</td>\n",
       "      <td>18:43:00</td>\n",
       "      <td>18</td>\n",
       "    </tr>\n",
       "    <tr>\n",
       "      <th>1</th>\n",
       "      <td>1/25/2020</td>\n",
       "      <td>23:16</td>\n",
       "      <td>6</td>\n",
       "      <td>OPERATOR</td>\n",
       "      <td>23:16:00</td>\n",
       "      <td>23</td>\n",
       "    </tr>\n",
       "    <tr>\n",
       "      <th>2</th>\n",
       "      <td>1/25/2020</td>\n",
       "      <td>17:00</td>\n",
       "      <td>29</td>\n",
       "      <td>OPERATOR</td>\n",
       "      <td>17:00:00</td>\n",
       "      <td>17</td>\n",
       "    </tr>\n",
       "    <tr>\n",
       "      <th>3</th>\n",
       "      <td>1/24/2020</td>\n",
       "      <td>16:02</td>\n",
       "      <td>14R</td>\n",
       "      <td>OPERATOR</td>\n",
       "      <td>16:02:00</td>\n",
       "      <td>16</td>\n",
       "    </tr>\n",
       "    <tr>\n",
       "      <th>4</th>\n",
       "      <td>1/22/2020</td>\n",
       "      <td>19:27</td>\n",
       "      <td>N</td>\n",
       "      <td>OPERATOR</td>\n",
       "      <td>19:27:00</td>\n",
       "      <td>19</td>\n",
       "    </tr>\n",
       "  </tbody>\n",
       "</table>\n",
       "</div>"
      ],
      "text/plain": [
       "  incident_date incident_time line    caller      time  hour\n",
       "0     1/27/2020         18:43    M      4C22  18:43:00    18\n",
       "1     1/25/2020         23:16    6  OPERATOR  23:16:00    23\n",
       "2     1/25/2020         17:00   29  OPERATOR  17:00:00    17\n",
       "3     1/24/2020         16:02  14R  OPERATOR  16:02:00    16\n",
       "4     1/22/2020         19:27    N  OPERATOR  19:27:00    19"
      ]
     },
     "execution_count": 17,
     "metadata": {},
     "output_type": "execute_result"
    }
   ],
   "source": [
    "analysis.head()"
   ]
  },
  {
   "cell_type": "code",
   "execution_count": 18,
   "metadata": {},
   "outputs": [
    {
     "data": {
      "text/html": [
       "<div>\n",
       "<style scoped>\n",
       "    .dataframe tbody tr th:only-of-type {\n",
       "        vertical-align: middle;\n",
       "    }\n",
       "\n",
       "    .dataframe tbody tr th {\n",
       "        vertical-align: top;\n",
       "    }\n",
       "\n",
       "    .dataframe thead th {\n",
       "        text-align: right;\n",
       "    }\n",
       "</style>\n",
       "<table border=\"1\" class=\"dataframe\">\n",
       "  <thead>\n",
       "    <tr style=\"text-align: right;\">\n",
       "      <th></th>\n",
       "      <th>count</th>\n",
       "      <th>mean</th>\n",
       "      <th>std</th>\n",
       "      <th>min</th>\n",
       "      <th>25%</th>\n",
       "      <th>50%</th>\n",
       "      <th>75%</th>\n",
       "      <th>max</th>\n",
       "    </tr>\n",
       "    <tr>\n",
       "      <th>line</th>\n",
       "      <th></th>\n",
       "      <th></th>\n",
       "      <th></th>\n",
       "      <th></th>\n",
       "      <th></th>\n",
       "      <th></th>\n",
       "      <th></th>\n",
       "      <th></th>\n",
       "    </tr>\n",
       "  </thead>\n",
       "  <tbody>\n",
       "    <tr>\n",
       "      <th>F</th>\n",
       "      <td>1.0</td>\n",
       "      <td>19.000000</td>\n",
       "      <td>NaN</td>\n",
       "      <td>19.0</td>\n",
       "      <td>19.00</td>\n",
       "      <td>19.0</td>\n",
       "      <td>19.00</td>\n",
       "      <td>19.0</td>\n",
       "    </tr>\n",
       "    <tr>\n",
       "      <th>1</th>\n",
       "      <td>14.0</td>\n",
       "      <td>15.357143</td>\n",
       "      <td>6.295385</td>\n",
       "      <td>0.0</td>\n",
       "      <td>10.75</td>\n",
       "      <td>17.0</td>\n",
       "      <td>19.75</td>\n",
       "      <td>23.0</td>\n",
       "    </tr>\n",
       "    <tr>\n",
       "      <th>10</th>\n",
       "      <td>7.0</td>\n",
       "      <td>16.714286</td>\n",
       "      <td>6.183696</td>\n",
       "      <td>7.0</td>\n",
       "      <td>12.50</td>\n",
       "      <td>19.0</td>\n",
       "      <td>21.50</td>\n",
       "      <td>23.0</td>\n",
       "    </tr>\n",
       "    <tr>\n",
       "      <th>103</th>\n",
       "      <td>3.0</td>\n",
       "      <td>3.333333</td>\n",
       "      <td>2.886751</td>\n",
       "      <td>0.0</td>\n",
       "      <td>2.50</td>\n",
       "      <td>5.0</td>\n",
       "      <td>5.00</td>\n",
       "      <td>5.0</td>\n",
       "    </tr>\n",
       "    <tr>\n",
       "      <th>105</th>\n",
       "      <td>2.0</td>\n",
       "      <td>3.500000</td>\n",
       "      <td>0.707107</td>\n",
       "      <td>3.0</td>\n",
       "      <td>3.25</td>\n",
       "      <td>3.5</td>\n",
       "      <td>3.75</td>\n",
       "      <td>4.0</td>\n",
       "    </tr>\n",
       "    <tr>\n",
       "      <th>108</th>\n",
       "      <td>1.0</td>\n",
       "      <td>12.000000</td>\n",
       "      <td>NaN</td>\n",
       "      <td>12.0</td>\n",
       "      <td>12.00</td>\n",
       "      <td>12.0</td>\n",
       "      <td>12.00</td>\n",
       "      <td>12.0</td>\n",
       "    </tr>\n",
       "    <tr>\n",
       "      <th>12</th>\n",
       "      <td>9.0</td>\n",
       "      <td>17.888889</td>\n",
       "      <td>4.400126</td>\n",
       "      <td>10.0</td>\n",
       "      <td>16.00</td>\n",
       "      <td>19.0</td>\n",
       "      <td>20.00</td>\n",
       "      <td>23.0</td>\n",
       "    </tr>\n",
       "    <tr>\n",
       "      <th>14</th>\n",
       "      <td>255.0</td>\n",
       "      <td>13.109804</td>\n",
       "      <td>8.017433</td>\n",
       "      <td>0.0</td>\n",
       "      <td>5.00</td>\n",
       "      <td>16.0</td>\n",
       "      <td>20.00</td>\n",
       "      <td>23.0</td>\n",
       "    </tr>\n",
       "    <tr>\n",
       "      <th>14L</th>\n",
       "      <td>18.0</td>\n",
       "      <td>14.111111</td>\n",
       "      <td>3.233808</td>\n",
       "      <td>7.0</td>\n",
       "      <td>13.00</td>\n",
       "      <td>14.5</td>\n",
       "      <td>16.00</td>\n",
       "      <td>19.0</td>\n",
       "    </tr>\n",
       "    <tr>\n",
       "      <th>14R</th>\n",
       "      <td>38.0</td>\n",
       "      <td>14.763158</td>\n",
       "      <td>2.784457</td>\n",
       "      <td>10.0</td>\n",
       "      <td>13.00</td>\n",
       "      <td>15.0</td>\n",
       "      <td>16.00</td>\n",
       "      <td>19.0</td>\n",
       "    </tr>\n",
       "  </tbody>\n",
       "</table>\n",
       "</div>"
      ],
      "text/plain": [
       "      count       mean       std   min    25%   50%    75%   max\n",
       "line                                                            \n",
       " F      1.0  19.000000       NaN  19.0  19.00  19.0  19.00  19.0\n",
       "1      14.0  15.357143  6.295385   0.0  10.75  17.0  19.75  23.0\n",
       "10      7.0  16.714286  6.183696   7.0  12.50  19.0  21.50  23.0\n",
       "103     3.0   3.333333  2.886751   0.0   2.50   5.0   5.00   5.0\n",
       "105     2.0   3.500000  0.707107   3.0   3.25   3.5   3.75   4.0\n",
       "108     1.0  12.000000       NaN  12.0  12.00  12.0  12.00  12.0\n",
       "12      9.0  17.888889  4.400126  10.0  16.00  19.0  20.00  23.0\n",
       "14    255.0  13.109804  8.017433   0.0   5.00  16.0  20.00  23.0\n",
       "14L    18.0  14.111111  3.233808   7.0  13.00  14.5  16.00  19.0\n",
       "14R    38.0  14.763158  2.784457  10.0  13.00  15.0  16.00  19.0"
      ]
     },
     "execution_count": 18,
     "metadata": {},
     "output_type": "execute_result"
    }
   ],
   "source": [
    "# What does info about lines and time of incidents look like?\n",
    "\n",
    "analysis.groupby('line').hour.describe()[:10]"
   ]
  },
  {
   "cell_type": "code",
   "execution_count": 19,
   "metadata": {},
   "outputs": [],
   "source": [
    "#Time to make date digestable too\n",
    "\n",
    "analysis['date'] = analysis['incident_date'].astype('datetime64[ns]')"
   ]
  },
  {
   "cell_type": "code",
   "execution_count": 20,
   "metadata": {},
   "outputs": [],
   "source": [
    "analysis['year'] = analysis['incident_date'].astype('datetime64[ns]').dt.year"
   ]
  },
  {
   "cell_type": "code",
   "execution_count": 21,
   "metadata": {},
   "outputs": [
    {
     "data": {
      "text/html": [
       "<div>\n",
       "<style scoped>\n",
       "    .dataframe tbody tr th:only-of-type {\n",
       "        vertical-align: middle;\n",
       "    }\n",
       "\n",
       "    .dataframe tbody tr th {\n",
       "        vertical-align: top;\n",
       "    }\n",
       "\n",
       "    .dataframe thead th {\n",
       "        text-align: right;\n",
       "    }\n",
       "</style>\n",
       "<table border=\"1\" class=\"dataframe\">\n",
       "  <thead>\n",
       "    <tr style=\"text-align: right;\">\n",
       "      <th></th>\n",
       "      <th>incident_date</th>\n",
       "      <th>incident_time</th>\n",
       "      <th>line</th>\n",
       "      <th>caller</th>\n",
       "      <th>time</th>\n",
       "      <th>hour</th>\n",
       "      <th>date</th>\n",
       "      <th>year</th>\n",
       "    </tr>\n",
       "  </thead>\n",
       "  <tbody>\n",
       "    <tr>\n",
       "      <th>0</th>\n",
       "      <td>1/27/2020</td>\n",
       "      <td>18:43</td>\n",
       "      <td>M</td>\n",
       "      <td>4C22</td>\n",
       "      <td>18:43:00</td>\n",
       "      <td>18</td>\n",
       "      <td>2020-01-27</td>\n",
       "      <td>2020</td>\n",
       "    </tr>\n",
       "    <tr>\n",
       "      <th>1</th>\n",
       "      <td>1/25/2020</td>\n",
       "      <td>23:16</td>\n",
       "      <td>6</td>\n",
       "      <td>OPERATOR</td>\n",
       "      <td>23:16:00</td>\n",
       "      <td>23</td>\n",
       "      <td>2020-01-25</td>\n",
       "      <td>2020</td>\n",
       "    </tr>\n",
       "    <tr>\n",
       "      <th>2</th>\n",
       "      <td>1/25/2020</td>\n",
       "      <td>17:00</td>\n",
       "      <td>29</td>\n",
       "      <td>OPERATOR</td>\n",
       "      <td>17:00:00</td>\n",
       "      <td>17</td>\n",
       "      <td>2020-01-25</td>\n",
       "      <td>2020</td>\n",
       "    </tr>\n",
       "    <tr>\n",
       "      <th>3</th>\n",
       "      <td>1/24/2020</td>\n",
       "      <td>16:02</td>\n",
       "      <td>14R</td>\n",
       "      <td>OPERATOR</td>\n",
       "      <td>16:02:00</td>\n",
       "      <td>16</td>\n",
       "      <td>2020-01-24</td>\n",
       "      <td>2020</td>\n",
       "    </tr>\n",
       "    <tr>\n",
       "      <th>4</th>\n",
       "      <td>1/22/2020</td>\n",
       "      <td>19:27</td>\n",
       "      <td>N</td>\n",
       "      <td>OPERATOR</td>\n",
       "      <td>19:27:00</td>\n",
       "      <td>19</td>\n",
       "      <td>2020-01-22</td>\n",
       "      <td>2020</td>\n",
       "    </tr>\n",
       "  </tbody>\n",
       "</table>\n",
       "</div>"
      ],
      "text/plain": [
       "  incident_date incident_time line    caller      time  hour       date  year\n",
       "0     1/27/2020         18:43    M      4C22  18:43:00    18 2020-01-27  2020\n",
       "1     1/25/2020         23:16    6  OPERATOR  23:16:00    23 2020-01-25  2020\n",
       "2     1/25/2020         17:00   29  OPERATOR  17:00:00    17 2020-01-25  2020\n",
       "3     1/24/2020         16:02  14R  OPERATOR  16:02:00    16 2020-01-24  2020\n",
       "4     1/22/2020         19:27    N  OPERATOR  19:27:00    19 2020-01-22  2020"
      ]
     },
     "execution_count": 21,
     "metadata": {},
     "output_type": "execute_result"
    }
   ],
   "source": [
    "analysis.head()"
   ]
  },
  {
   "cell_type": "code",
   "execution_count": 22,
   "metadata": {
    "scrolled": false
   },
   "outputs": [
    {
     "data": {
      "text/plain": [
       "count    2622.000000\n",
       "mean     2015.834859\n",
       "std         1.989240\n",
       "min      2013.000000\n",
       "25%      2014.000000\n",
       "50%      2016.000000\n",
       "75%      2018.000000\n",
       "max      2020.000000\n",
       "Name: year, dtype: float64"
      ]
     },
     "execution_count": 22,
     "metadata": {},
     "output_type": "execute_result"
    }
   ],
   "source": [
    "# What does info about date of incidents look like?\n",
    "\n",
    "analysis.year.describe()"
   ]
  },
  {
   "cell_type": "code",
   "execution_count": 23,
   "metadata": {},
   "outputs": [
    {
     "data": {
      "text/plain": [
       "count                    2622\n",
       "unique                   1535\n",
       "top       2019-06-30 00:00:00\n",
       "freq                        6\n",
       "first     2013-04-01 00:00:00\n",
       "last      2020-01-27 00:00:00\n",
       "Name: date, dtype: object"
      ]
     },
     "execution_count": 23,
     "metadata": {},
     "output_type": "execute_result"
    }
   ],
   "source": [
    "analysis.date.describe()"
   ]
  },
  {
   "cell_type": "code",
   "execution_count": 24,
   "metadata": {},
   "outputs": [],
   "source": [
    "# Import the library\n",
    "import matplotlib.pyplot as plt\n",
    "\n",
    "# This line allows the plots display to nicely in the notebook.\n",
    "%matplotlib inline"
   ]
  },
  {
   "cell_type": "code",
   "execution_count": 25,
   "metadata": {
    "scrolled": false
   },
   "outputs": [
    {
     "data": {
      "text/plain": [
       "<matplotlib.axes._subplots.AxesSubplot at 0x7f8a1b699e80>"
      ]
     },
     "execution_count": 25,
     "metadata": {},
     "output_type": "execute_result"
    },
    {
     "data": {
      "image/png": "[encoded data removed]",
      "text/plain": [
       "<Figure size 432x288 with 1 Axes>"
      ]
     },
     "metadata": {
      "needs_background": "light"
     },
     "output_type": "display_data"
    }
   ],
   "source": [
    "## Let's graph incidents by line!\n",
    "\n",
    "# add the x-axis label\n",
    "plt.xlabel(\"Line\")\n",
    "\n",
    "# add the y-axis label\n",
    "plt.ylabel(\"Frequency\")\n",
    "\n",
    "# add the title\n",
    "plt.title(\"SFMTA Incidents by Muni Line, April 2013 - January 2020 (Top 10)\")\n",
    "\n",
    "analysis['line'].value_counts()[:10].plot(kind='bar')"
   ]
  },
  {
   "cell_type": "code",
   "execution_count": 26,
   "metadata": {},
   "outputs": [
    {
     "data": {
      "text/plain": [
       "<matplotlib.axes._subplots.AxesSubplot at 0x7f8a1b51ca20>"
      ]
     },
     "execution_count": 26,
     "metadata": {},
     "output_type": "execute_result"
    },
    {
     "data": {
      "image/png": "[encoded data removed]",
      "text/plain": [
       "<Figure size 432x288 with 1 Axes>"
      ]
     },
     "metadata": {
      "needs_background": "light"
     },
     "output_type": "display_data"
    }
   ],
   "source": [
    "##Let's graph incidents by who reported!\n",
    "\n",
    "# add the x-axis label\n",
    "plt.xlabel(\"Reporter\")\n",
    "\n",
    "# add the y-axis label\n",
    "plt.ylabel(\"Frequency\")\n",
    "\n",
    "# add the title\n",
    "plt.title(\"SFMTA Incidents by Incident Reporter, April 2013 - January 2019 (Top 10)\")\n",
    "\n",
    "analysis['caller'].value_counts()[:15].plot(kind='bar')"
   ]
  },
  {
   "cell_type": "markdown",
   "metadata": {},
   "source": [
    "### Create a dataframe for the call-ins"
   ]
  },
  {
   "cell_type": "code",
   "execution_count": 27,
   "metadata": {
    "scrolled": false
   },
   "outputs": [
    {
     "data": {
      "text/plain": [
       "0        4C22\n",
       "1    OPERATOR\n",
       "2    OPERATOR\n",
       "3    OPERATOR\n",
       "4    OPERATOR\n",
       "Name: caller, dtype: object"
      ]
     },
     "execution_count": 27,
     "metadata": {},
     "output_type": "execute_result"
    }
   ],
   "source": [
    "#Let's get to know info about the reporters!\n",
    "\n",
    "reporter = analysis['caller']\n",
    "reporter = reporter.astype(str)\n",
    "reporter.head()"
   ]
  },
  {
   "cell_type": "markdown",
   "metadata": {},
   "source": [
    "### How to best filter for station agents and create a simplified bar graph of reporting"
   ]
  },
  {
   "cell_type": "code",
   "execution_count": 28,
   "metadata": {},
   "outputs": [
    {
     "data": {
      "text/plain": [
       "138"
      ]
     },
     "execution_count": 28,
     "metadata": {},
     "output_type": "execute_result"
    }
   ],
   "source": [
    "#original syntax for new df\n",
    "reporter2 = analysis['caller'].str.contains('AGE')\n",
    "sum(reporter2)"
   ]
  },
  {
   "cell_type": "code",
   "execution_count": 29,
   "metadata": {},
   "outputs": [
    {
     "data": {
      "text/plain": [
       "138"
      ]
     },
     "execution_count": 29,
     "metadata": {},
     "output_type": "execute_result"
    }
   ],
   "source": [
    "# Check Out Later\n",
    "agent_call = reporter.loc[analysis.caller.str.contains(\"AGE\")]\n",
    "len(agent_call)"
   ]
  },
  {
   "cell_type": "code",
   "execution_count": 30,
   "metadata": {
    "scrolled": true
   },
   "outputs": [
    {
     "data": {
      "text/plain": [
       "2256"
      ]
     },
     "execution_count": 30,
     "metadata": {},
     "output_type": "execute_result"
    }
   ],
   "source": [
    "operator_call = reporter.loc[(analysis.caller == 'OPERATOR')]\n",
    "len(operator_call)"
   ]
  },
  {
   "cell_type": "code",
   "execution_count": 31,
   "metadata": {},
   "outputs": [
    {
     "data": {
      "text/plain": [
       "357"
      ]
     },
     "execution_count": 31,
     "metadata": {},
     "output_type": "execute_result"
    }
   ],
   "source": [
    "nonoperator_call = reporter.loc[~analysis.caller.isin(['OPERATOR','SFPD', 'BART POLICE', 'SFPD CAD#3605', 'SFPD DISPATCHER'])]\n",
    "#nonoperator_call = reporter.loc[(analysis.caller == 'SFPD') == False]\n",
    "len(nonoperator_call)"
   ]
  },
  {
   "cell_type": "code",
   "execution_count": 32,
   "metadata": {},
   "outputs": [
    {
     "data": {
      "text/plain": [
       "9"
      ]
     },
     "execution_count": 32,
     "metadata": {},
     "output_type": "execute_result"
    }
   ],
   "source": [
    "police_call = reporter.loc[analysis.caller.isin(['SFPD', 'BART POLICE', 'SFPD CAD#3605', 'SFPD DISPATCHER'])]\n",
    "len(police_call)"
   ]
  },
  {
   "cell_type": "code",
   "execution_count": 33,
   "metadata": {},
   "outputs": [
    {
     "data": {
      "text/html": [
       "<div>\n",
       "<style scoped>\n",
       "    .dataframe tbody tr th:only-of-type {\n",
       "        vertical-align: middle;\n",
       "    }\n",
       "\n",
       "    .dataframe tbody tr th {\n",
       "        vertical-align: top;\n",
       "    }\n",
       "\n",
       "    .dataframe thead th {\n",
       "        text-align: right;\n",
       "    }\n",
       "</style>\n",
       "<table border=\"1\" class=\"dataframe\">\n",
       "  <thead>\n",
       "    <tr style=\"text-align: right;\">\n",
       "      <th></th>\n",
       "      <th>operator</th>\n",
       "      <th>agent</th>\n",
       "      <th>police</th>\n",
       "      <th>other</th>\n",
       "    </tr>\n",
       "  </thead>\n",
       "  <tbody>\n",
       "    <tr>\n",
       "      <th>0</th>\n",
       "      <td>NaN</td>\n",
       "      <td>NaN</td>\n",
       "      <td>NaN</td>\n",
       "      <td>4C22</td>\n",
       "    </tr>\n",
       "    <tr>\n",
       "      <th>1</th>\n",
       "      <td>OPERATOR</td>\n",
       "      <td>NaN</td>\n",
       "      <td>NaN</td>\n",
       "      <td>NaN</td>\n",
       "    </tr>\n",
       "    <tr>\n",
       "      <th>2</th>\n",
       "      <td>OPERATOR</td>\n",
       "      <td>NaN</td>\n",
       "      <td>NaN</td>\n",
       "      <td>NaN</td>\n",
       "    </tr>\n",
       "    <tr>\n",
       "      <th>3</th>\n",
       "      <td>OPERATOR</td>\n",
       "      <td>NaN</td>\n",
       "      <td>NaN</td>\n",
       "      <td>NaN</td>\n",
       "    </tr>\n",
       "    <tr>\n",
       "      <th>4</th>\n",
       "      <td>OPERATOR</td>\n",
       "      <td>NaN</td>\n",
       "      <td>NaN</td>\n",
       "      <td>NaN</td>\n",
       "    </tr>\n",
       "  </tbody>\n",
       "</table>\n",
       "</div>"
      ],
      "text/plain": [
       "   operator agent police other\n",
       "0       NaN   NaN    NaN  4C22\n",
       "1  OPERATOR   NaN    NaN   NaN\n",
       "2  OPERATOR   NaN    NaN   NaN\n",
       "3  OPERATOR   NaN    NaN   NaN\n",
       "4  OPERATOR   NaN    NaN   NaN"
      ]
     },
     "execution_count": 33,
     "metadata": {},
     "output_type": "execute_result"
    }
   ],
   "source": [
    "simple_caller = analysis.drop(['incident_date', 'incident_time', 'line', 'caller', 'time', 'hour', 'date', 'year'], axis = 1)\n",
    "simple_caller['operator'] = operator_call\n",
    "simple_caller['agent'] = agent_call\n",
    "simple_caller['police'] = police_call\n",
    "simple_caller['other'] = nonoperator_call\n",
    "#simple_caller\n",
    "\n",
    "simple_caller.head()"
   ]
  },
  {
   "cell_type": "code",
   "execution_count": 34,
   "metadata": {},
   "outputs": [
    {
     "data": {
      "text/html": [
       "<div>\n",
       "<style scoped>\n",
       "    .dataframe tbody tr th:only-of-type {\n",
       "        vertical-align: middle;\n",
       "    }\n",
       "\n",
       "    .dataframe tbody tr th {\n",
       "        vertical-align: top;\n",
       "    }\n",
       "\n",
       "    .dataframe thead th {\n",
       "        text-align: right;\n",
       "    }\n",
       "</style>\n",
       "<table border=\"1\" class=\"dataframe\">\n",
       "  <thead>\n",
       "    <tr style=\"text-align: right;\">\n",
       "      <th></th>\n",
       "      <th>operator</th>\n",
       "      <th>agent</th>\n",
       "      <th>police</th>\n",
       "      <th>other</th>\n",
       "    </tr>\n",
       "  </thead>\n",
       "  <tbody>\n",
       "    <tr>\n",
       "      <th>0</th>\n",
       "      <td>0</td>\n",
       "      <td>0</td>\n",
       "      <td>0</td>\n",
       "      <td>1</td>\n",
       "    </tr>\n",
       "    <tr>\n",
       "      <th>1</th>\n",
       "      <td>1</td>\n",
       "      <td>0</td>\n",
       "      <td>0</td>\n",
       "      <td>0</td>\n",
       "    </tr>\n",
       "    <tr>\n",
       "      <th>2</th>\n",
       "      <td>1</td>\n",
       "      <td>0</td>\n",
       "      <td>0</td>\n",
       "      <td>0</td>\n",
       "    </tr>\n",
       "    <tr>\n",
       "      <th>3</th>\n",
       "      <td>1</td>\n",
       "      <td>0</td>\n",
       "      <td>0</td>\n",
       "      <td>0</td>\n",
       "    </tr>\n",
       "    <tr>\n",
       "      <th>4</th>\n",
       "      <td>1</td>\n",
       "      <td>0</td>\n",
       "      <td>0</td>\n",
       "      <td>0</td>\n",
       "    </tr>\n",
       "  </tbody>\n",
       "</table>\n",
       "</div>"
      ],
      "text/plain": [
       "   operator  agent  police  other\n",
       "0         0      0       0      1\n",
       "1         1      0       0      0\n",
       "2         1      0       0      0\n",
       "3         1      0       0      0\n",
       "4         1      0       0      0"
      ]
     },
     "execution_count": 34,
     "metadata": {},
     "output_type": "execute_result"
    }
   ],
   "source": [
    "simple_caller.loc[simple_caller['operator'].notnull(), 'operator'] = 1\n",
    "simple_caller.loc[simple_caller['operator'].isnull(), 'operator'] = 0\n",
    "simple_caller.loc[simple_caller['agent'].notnull(), 'agent'] = 1\n",
    "simple_caller.loc[simple_caller['agent'].isnull(), 'agent'] = 0\n",
    "simple_caller.loc[simple_caller['police'].notnull(), 'police'] = 1\n",
    "simple_caller.loc[simple_caller['police'].isnull(), 'police'] = 0\n",
    "simple_caller.loc[simple_caller['other'].notnull(), 'other'] = 1\n",
    "simple_caller.loc[simple_caller['other'].isnull(), 'other'] = 0\n",
    "\n",
    "simple_caller.head()"
   ]
  },
  {
   "cell_type": "code",
   "execution_count": 35,
   "metadata": {},
   "outputs": [
    {
     "data": {
      "text/plain": [
       "<matplotlib.axes._subplots.AxesSubplot at 0x7f8a1c209048>"
      ]
     },
     "execution_count": 35,
     "metadata": {},
     "output_type": "execute_result"
    },
    {
     "data": {
      "image/png": "[encoded data removed]",
      "text/plain": [
       "<Figure size 432x288 with 1 Axes>"
      ]
     },
     "metadata": {
      "needs_background": "light"
     },
     "output_type": "display_data"
    }
   ],
   "source": [
    "# Graph of calls by operators, police, station agents, and other\n",
    "simple_caller.sum().plot(kind='bar')"
   ]
  },
  {
   "cell_type": "markdown",
   "metadata": {},
   "source": [
    "### Ideas for later\n",
    "### Incidents by time of day"
   ]
  },
  {
   "cell_type": "code",
   "execution_count": 36,
   "metadata": {
    "scrolled": false
   },
   "outputs": [
    {
     "data": {
      "image/png": "[encoded data removed]",
      "text/plain": [
       "<Figure size 432x288 with 1 Axes>"
      ]
     },
     "metadata": {
      "needs_background": "light"
     },
     "output_type": "display_data"
    }
   ],
   "source": [
    "cc_time = pd.Series(analysis['hour'])\n",
    "cc_time.plot.hist(bins=24)\n",
    "\n",
    "# add the x-axis label\n",
    "plt.xlabel(\"Time\")\n",
    "\n",
    "# add the y-axis label\n",
    "plt.ylabel(\"Frequency\")\n",
    "\n",
    "# add the legend\n",
    "plt.legend()\n",
    "\n",
    "# add the title\n",
    "plt.title(\"SFMTA Incidents by Time of Day, April 2013 - January 2020\")\n",
    "\n",
    "# show the plot\n",
    "plt.show()"
   ]
  },
  {
   "cell_type": "markdown",
   "metadata": {},
   "source": [
    "### Incidents by year"
   ]
  },
  {
   "cell_type": "code",
   "execution_count": 74,
   "metadata": {
    "scrolled": true
   },
   "outputs": [
    {
     "data": {
      "image/png": "[encoded data removed]",
      "text/plain": [
       "<Figure size 432x288 with 1 Axes>"
      ]
     },
     "metadata": {
      "needs_background": "light"
     },
     "output_type": "display_data"
    }
   ],
   "source": [
    "cc_time = pd.Series(analysis['year'])\n",
    "cc_time.plot.hist(bins=24)\n",
    "\n",
    "# add the x-axis label\n",
    "plt.xlabel(\"Year\")\n",
    "\n",
    "# add the y-axis label\n",
    "plt.ylabel(\"Frequency\")\n",
    "\n",
    "# add the legend\n",
    "plt.legend()\n",
    "\n",
    "# add the title\n",
    "plt.title(\"SFMTA Incidents by Year, April 2013 - January 2020\")\n",
    "\n",
    "# show the plot\n",
    "plt.show()"
   ]
  },
  {
   "cell_type": "code",
   "execution_count": 38,
   "metadata": {},
   "outputs": [
    {
     "data": {
      "text/html": [
       "<div>\n",
       "<style scoped>\n",
       "    .dataframe tbody tr th:only-of-type {\n",
       "        vertical-align: middle;\n",
       "    }\n",
       "\n",
       "    .dataframe tbody tr th {\n",
       "        vertical-align: top;\n",
       "    }\n",
       "\n",
       "    .dataframe thead th {\n",
       "        text-align: right;\n",
       "    }\n",
       "</style>\n",
       "<table border=\"1\" class=\"dataframe\">\n",
       "  <thead>\n",
       "    <tr style=\"text-align: right;\">\n",
       "      <th></th>\n",
       "      <th>incident_date</th>\n",
       "      <th>incident_time</th>\n",
       "      <th>line</th>\n",
       "      <th>caller</th>\n",
       "      <th>time</th>\n",
       "      <th>hour</th>\n",
       "      <th>date</th>\n",
       "      <th>year</th>\n",
       "      <th>month</th>\n",
       "    </tr>\n",
       "  </thead>\n",
       "  <tbody>\n",
       "    <tr>\n",
       "      <th>0</th>\n",
       "      <td>1/27/2020</td>\n",
       "      <td>18:43</td>\n",
       "      <td>M</td>\n",
       "      <td>4C22</td>\n",
       "      <td>18:43:00</td>\n",
       "      <td>18</td>\n",
       "      <td>2020-01-27</td>\n",
       "      <td>2020</td>\n",
       "      <td>1</td>\n",
       "    </tr>\n",
       "    <tr>\n",
       "      <th>1</th>\n",
       "      <td>1/25/2020</td>\n",
       "      <td>23:16</td>\n",
       "      <td>6</td>\n",
       "      <td>OPERATOR</td>\n",
       "      <td>23:16:00</td>\n",
       "      <td>23</td>\n",
       "      <td>2020-01-25</td>\n",
       "      <td>2020</td>\n",
       "      <td>1</td>\n",
       "    </tr>\n",
       "    <tr>\n",
       "      <th>2</th>\n",
       "      <td>1/25/2020</td>\n",
       "      <td>17:00</td>\n",
       "      <td>29</td>\n",
       "      <td>OPERATOR</td>\n",
       "      <td>17:00:00</td>\n",
       "      <td>17</td>\n",
       "      <td>2020-01-25</td>\n",
       "      <td>2020</td>\n",
       "      <td>1</td>\n",
       "    </tr>\n",
       "    <tr>\n",
       "      <th>3</th>\n",
       "      <td>1/24/2020</td>\n",
       "      <td>16:02</td>\n",
       "      <td>14R</td>\n",
       "      <td>OPERATOR</td>\n",
       "      <td>16:02:00</td>\n",
       "      <td>16</td>\n",
       "      <td>2020-01-24</td>\n",
       "      <td>2020</td>\n",
       "      <td>1</td>\n",
       "    </tr>\n",
       "    <tr>\n",
       "      <th>4</th>\n",
       "      <td>1/22/2020</td>\n",
       "      <td>19:27</td>\n",
       "      <td>N</td>\n",
       "      <td>OPERATOR</td>\n",
       "      <td>19:27:00</td>\n",
       "      <td>19</td>\n",
       "      <td>2020-01-22</td>\n",
       "      <td>2020</td>\n",
       "      <td>1</td>\n",
       "    </tr>\n",
       "  </tbody>\n",
       "</table>\n",
       "</div>"
      ],
      "text/plain": [
       "  incident_date incident_time line    caller      time  hour       date  year  \\\n",
       "0     1/27/2020         18:43    M      4C22  18:43:00    18 2020-01-27  2020   \n",
       "1     1/25/2020         23:16    6  OPERATOR  23:16:00    23 2020-01-25  2020   \n",
       "2     1/25/2020         17:00   29  OPERATOR  17:00:00    17 2020-01-25  2020   \n",
       "3     1/24/2020         16:02  14R  OPERATOR  16:02:00    16 2020-01-24  2020   \n",
       "4     1/22/2020         19:27    N  OPERATOR  19:27:00    19 2020-01-22  2020   \n",
       "\n",
       "   month  \n",
       "0      1  \n",
       "1      1  \n",
       "2      1  \n",
       "3      1  \n",
       "4      1  "
      ]
     },
     "execution_count": 38,
     "metadata": {},
     "output_type": "execute_result"
    }
   ],
   "source": [
    "# Why are there gaps in the bars? - Let's see what the data looks like by month\n",
    "analysis['month'] = analysis['incident_date'].astype('datetime64[ns]').dt.month\n",
    "analysis.head()"
   ]
  },
  {
   "cell_type": "code",
   "execution_count": 54,
   "metadata": {},
   "outputs": [
    {
     "data": {
      "image/png": "[encoded data removed]",
      "text/plain": [
       "<Figure size 432x288 with 1 Axes>"
      ]
     },
     "metadata": {
      "needs_background": "light"
     },
     "output_type": "display_data"
    }
   ],
   "source": [
    "cc_time = pd.Series(analysis['month'])\n",
    "cc_time.plot.hist()\n",
    "\n",
    "# add the x-axis label\n",
    "plt.xlabel(\"Month\")\n",
    "\n",
    "# add the y-axis label\n",
    "plt.ylabel(\"Frequency\")\n",
    "\n",
    "# add the legend\n",
    "plt.legend()\n",
    "\n",
    "# add the title\n",
    "plt.title(\"SFMTA Incidents by Month, April 2013 - January 2020\")\n",
    "\n",
    "# show the plot\n",
    "plt.show()"
   ]
  },
  {
   "cell_type": "code",
   "execution_count": 78,
   "metadata": {},
   "outputs": [
    {
     "data": {
      "text/plain": [
       "<matplotlib.axes._subplots.AxesSubplot at 0x7f8a0f767cc0>"
      ]
     },
     "execution_count": 78,
     "metadata": {},
     "output_type": "execute_result"
    },
    {
     "data": {
      "image/png": "[encoded data removed]",
      "text/plain": [
       "<Figure size 432x288 with 1 Axes>"
      ]
     },
     "metadata": {
      "needs_background": "light"
     },
     "output_type": "display_data"
    }
   ],
   "source": [
    "\n",
    "analysis.month.value_counts().plot(kind='bar')\n",
    "#clearly there's something weird here!"
   ]
  },
  {
   "cell_type": "code",
   "execution_count": 41,
   "metadata": {},
   "outputs": [],
   "source": [
    "#group by hour and sum by incidents\n",
    "#KDE\n"
   ]
  },
  {
   "cell_type": "markdown",
   "metadata": {},
   "source": [
    "### Try using seaborn"
   ]
  },
  {
   "cell_type": "code",
   "execution_count": 104,
   "metadata": {},
   "outputs": [],
   "source": [
    "import seaborn as sns\n",
    "sns.set()  # activate the Seaborn aesthetic defaults"
   ]
  },
  {
   "cell_type": "code",
   "execution_count": 105,
   "metadata": {},
   "outputs": [
    {
     "data": {
      "image/png": "[encoded data removed]",
      "text/plain": [
       "<Figure size 432x288 with 1 Axes>"
      ]
     },
     "metadata": {},
     "output_type": "display_data"
    }
   ],
   "source": [
    "# Let's do 'Month' again because it's looking weird!\n",
    "\n",
    "ax=sns.countplot(data=analysis, x='month')\n",
    "\n",
    "ax.set_title(\"Incidents by Month\")\n",
    "ax.set_xticklabels(['Jan', 'Feb', 'Mar', 'Apr', 'May','Jun', 'Jul', 'Aug', 'Sep', 'Oct', 'Nov', 'Dec'])\n",
    "ax.set_xlabel('Month')\n",
    "\n",
    "plt.show()\n",
    "\n",
    "# Love this!"
   ]
  },
  {
   "cell_type": "code",
   "execution_count": 106,
   "metadata": {},
   "outputs": [
    {
     "data": {
      "image/png": "[encoded data removed]",
      "text/plain": [
       "<Figure size 432x288 with 1 Axes>"
      ]
     },
     "metadata": {},
     "output_type": "display_data"
    }
   ],
   "source": [
    "# Let's do 'Year' again because why not?!\n",
    "\n",
    "ax=sns.countplot(data=analysis, x='year')\n",
    "\n",
    "ax.set_title(\"Incidents by Year\")\n",
    "ax.set_xticklabels(['2013', '2014', '2015', '2016', '2017', '2018', '2019', '2020'])\n",
    "ax.set_xlabel('Year')\n",
    "\n",
    "plt.show()\n",
    "\n",
    "# Love this!"
   ]
  },
  {
   "cell_type": "code",
   "execution_count": 148,
   "metadata": {},
   "outputs": [
    {
     "data": {
      "image/png": "[encoded data removed]",
      "text/plain": [
       "<Figure size 432x288 with 1 Axes>"
      ]
     },
     "metadata": {},
     "output_type": "display_data"
    }
   ],
   "source": [
    "data = analysis.loc[analysis.hour]   # but trips\n",
    "\n",
    "# Note that a distplot takes a Series directly, rather than a DataFrame + colnames\n",
    "ax = sns.distplot(a=analysis.hour,\n",
    "                  bins = 24,\n",
    "                  color = 'green',\n",
    "                  kde = True) #If you remove kde the Y axis changes to counts instead\n",
    "\n",
    "ax.set_title('Percentage of Incidents by Hour of Day')\n",
    "plt.show()"
   ]
  },
  {
   "cell_type": "code",
   "execution_count": 162,
   "metadata": {},
   "outputs": [
    {
     "ename": "SyntaxError",
     "evalue": "invalid syntax (<ipython-input-162-c385e3b2cd6c>, line 8)",
     "output_type": "error",
     "traceback": [
      "\u001b[0;36m  File \u001b[0;32m\"<ipython-input-162-c385e3b2cd6c>\"\u001b[0;36m, line \u001b[0;32m8\u001b[0m\n\u001b[0;31m    ax.set_title('Percentage of Incidents by Hour of Day')\u001b[0m\n\u001b[0m     ^\u001b[0m\n\u001b[0;31mSyntaxError\u001b[0m\u001b[0;31m:\u001b[0m invalid syntax\n"
     ]
    }
   ],
   "source": [
    "data = analysis.loc[analysis.hour]   # but trips\n",
    "\n",
    "# Note that a distplot takes a Series directly, rather than a DataFrame + colnames\n",
    "ax = sns.regplot(x = analysis['line'].value_counts()[:10].index,\n",
    "                 y = analysis['hour']\n",
    "                 #fit_reg = True) #If you remove kde the Y axis changes to counts instead\n",
    "\n",
    "ax.set_title('Percentage of Incidents by Hour of Day')\n",
    "plt.show()"
   ]
  },
  {
   "cell_type": "markdown",
   "metadata": {},
   "source": [
    "### Let's look at this stuff by line!"
   ]
  },
  {
   "cell_type": "code",
   "execution_count": 140,
   "metadata": {},
   "outputs": [
    {
     "data": {
      "image/png": "[encoded data removed]",
      "text/plain": [
       "<Figure size 432x288 with 1 Axes>"
      ]
     },
     "metadata": {},
     "output_type": "display_data"
    }
   ],
   "source": [
    "ax=sns.countplot(data = analysis, \n",
    "                 x='line', \n",
    "                 order = analysis['line'].value_counts()[:10].index,\n",
    "                 )\n",
    "\n",
    "ax.set_title(\"Incidents by Line\")\n",
    "#ax.set_xticklabels([])\n",
    "ax.set_xlabel('Line')\n",
    "\n",
    "plt.show()\n",
    "\n",
    "# Love this!"
   ]
  },
  {
   "cell_type": "code",
   "execution_count": 168,
   "metadata": {},
   "outputs": [
    {
     "data": {
      "image/png": "[encoded data removed]",
      "text/plain": [
       "<Figure size 1080x216 with 5 Axes>"
      ]
     },
     "metadata": {},
     "output_type": "display_data"
    }
   ],
   "source": [
    "# Let's look at incidents by year on the top 5 lines\n",
    "\n",
    "data = analysis.loc[analysis.line.isin(['14','49','N', '38', 'F'])]\n",
    "\n",
    "group = sns.FacetGrid(data, col='line')\n",
    "group.map(sns.countplot, 'year')\n",
    "\n",
    "plt.show()"
   ]
  },
  {
   "cell_type": "code",
   "execution_count": 169,
   "metadata": {},
   "outputs": [
    {
     "data": {
      "image/png": "[encoded data removed]",
      "text/plain": [
       "<Figure size 1080x216 with 5 Axes>"
      ]
     },
     "metadata": {},
     "output_type": "display_data"
    }
   ],
   "source": [
    "# Let's look at incidents by month on the top 5 lines\n",
    "\n",
    "data = analysis.loc[analysis.line.isin(['14','49','N', '38', 'F'])]\n",
    "\n",
    "group = sns.FacetGrid(data, col='line')\n",
    "group.map(sns.countplot, 'month')\n",
    "\n",
    "plt.show()"
   ]
  },
  {
   "cell_type": "code",
   "execution_count": 173,
   "metadata": {},
   "outputs": [
    {
     "data": {
      "image/png": "[encoded data removed]",
      "text/plain": [
       "<Figure size 1080x216 with 5 Axes>"
      ]
     },
     "metadata": {},
     "output_type": "display_data"
    }
   ],
   "source": [
    "# Let's look at incidents by time on the top 5 lines\n",
    "\n",
    "data = analysis.loc[analysis.line.isin(['14','49','N', '38', 'F'])]\n",
    "\n",
    "group = sns.FacetGrid(data, col='line')\n",
    "group.map(sns.countplot, 'hour')\n",
    "\n",
    "plt.show()"
   ]
  },
  {
   "cell_type": "code",
   "execution_count": null,
   "metadata": {},
   "outputs": [],
   "source": []
  }
 ],
 "metadata": {
  "kernelspec": {
   "display_name": "Python 3",
   "language": "python",
   "name": "python3"
  },
  "language_info": {
   "codemirror_mode": {
    "name": "ipython",
    "version": 3
   },
   "file_extension": ".py",
   "mimetype": "text/x-python",
   "name": "python",
   "nbconvert_exporter": "python",
   "pygments_lexer": "ipython3",
   "version": "3.6.9"
  }
 },
 "nbformat": 4,
 "nbformat_minor": 4
}
